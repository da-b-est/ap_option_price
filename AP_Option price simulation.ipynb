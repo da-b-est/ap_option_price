{
 "cells": [
  {
   "cell_type": "code",
   "execution_count": 12,
   "id": "5a167a96-c1dc-4259-bae8-d3a36b7ae88c",
   "metadata": {
    "tags": []
   },
   "outputs": [
    {
     "name": "stdout",
     "output_type": "stream",
     "text": [
      "The estimated price of the call option is: $59.91\n",
      "95% confidence interval: ($59.38, $60.44)\n"
     ]
    }
   ],
   "source": [
    "import numpy as np\n",
    "\n",
    "def binomial_option_pricing(S0, K, T, r, sigma, n, option_type='call'):\n",
    "\n",
    "    dt = T / n  # Length of each time step\n",
    "    u = np.exp(sigma * np.sqrt(dt))  # Up factor\n",
    "    d = 1 / u  # Down factor\n",
    "    p = (np.exp(r * dt) - d) / (u - d)  # Risk-neutral probability\n",
    "    \n",
    "    stock_prices = np.zeros(n + 1)\n",
    "    option_values = np.zeros(n + 1)\n",
    "    \n",
    "    for i in range(n + 1):\n",
    "        stock_prices[i] = S0 * (u ** i) * (d ** (n - i))\n",
    "    \n",
    "    if option_type == 'call':\n",
    "        option_values = np.maximum(stock_prices - K, 0)\n",
    "    elif option_type == 'put':\n",
    "        option_values = np.maximum(K - stock_prices, 0)\n",
    "    \n",
    "    for j in range(n - 1, -1, -1):\n",
    "        for i in range(j + 1):\n",
    "            option_values[i] = np.exp(-r * dt) * (p * option_values[i + 1] + (1 - p) * option_values[i])\n",
    "    \n",
    "    return option_values[0]\n",
    "\n",
    "def calculate_confidence_interval(S0, K, T, r, sigma, n, option_type='call', num_simulations=1000):\n",
    "    prices = np.array([\n",
    "        binomial_option_pricing(S0, K, T, r, np.random.normal(sigma, 0.05), n, option_type) \n",
    "        for _ in range(num_simulations)\n",
    "    ])\n",
    "    \n",
    "    mean_price = np.mean(prices)\n",
    "    std_dev = np.std(prices)\n",
    "    \n",
    "    z_score = 1.96  # For a 95% confidence level\n",
    "    margin_of_error = z_score * (std_dev / np.sqrt(num_simulations))\n",
    "    \n",
    "    lower_ci = mean_price - margin_of_error\n",
    "    upper_ci = mean_price + margin_of_error\n",
    "    \n",
    "    return mean_price, lower_ci, upper_ci\n",
    "\n",
    "# Example parameters\n",
    "S0 = 450.0       # Initial stock price of Nvidia\n",
    "K = 460.0        # Strike price\n",
    "T = 1.0          # Time to maturity (1 year)\n",
    "r = 0.05         # Risk-free interest rate (5% per annum)\n",
    "sigma = 0.30     # Volatility (30% per annum)\n",
    "n = 100          # Number of steps in the binomial tree\n",
    "option_type = 'call'  # Type of option ('call' or 'put')\n",
    "num_simulations = 1000  # Number of simulations to run\n",
    "\n",
    "# Calculate the option price and confidence interval\n",
    "mean_price, lower_ci, upper_ci = calculate_confidence_interval(S0, K, T, r, sigma, n, option_type, num_simulations)\n",
    "print(f\"The estimated price of the {option_type} option is: ${mean_price:.2f}\")\n",
    "print(f\"95% confidence interval: (${lower_ci:.2f}, ${upper_ci:.2f})\")\n"
   ]
  },
  {
   "cell_type": "code",
   "execution_count": null,
   "id": "05d2add2-91af-4240-900a-43d6bbea549a",
   "metadata": {},
   "outputs": [],
   "source": []
  },
  {
   "cell_type": "code",
   "execution_count": null,
   "id": "75df2f9f-8aab-43a4-9435-366109844981",
   "metadata": {},
   "outputs": [],
   "source": []
  },
  {
   "cell_type": "code",
   "execution_count": null,
   "id": "02274fd0-8bec-433b-a2d0-cf4091b86c60",
   "metadata": {},
   "outputs": [],
   "source": []
  },
  {
   "cell_type": "code",
   "execution_count": null,
   "id": "91a5ff82-d8ab-4b51-9ddf-7aa69a58e56e",
   "metadata": {},
   "outputs": [],
   "source": []
  },
  {
   "cell_type": "code",
   "execution_count": null,
   "id": "1dae419a-3e35-4657-9ab2-b213c15bbee1",
   "metadata": {},
   "outputs": [],
   "source": []
  }
 ],
 "metadata": {
  "kernelspec": {
   "display_name": "Python 3 (ipykernel)",
   "language": "python",
   "name": "python3"
  },
  "language_info": {
   "codemirror_mode": {
    "name": "ipython",
    "version": 3
   },
   "file_extension": ".py",
   "mimetype": "text/x-python",
   "name": "python",
   "nbconvert_exporter": "python",
   "pygments_lexer": "ipython3",
   "version": "3.11.5"
  }
 },
 "nbformat": 4,
 "nbformat_minor": 5
}
